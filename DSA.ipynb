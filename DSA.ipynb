{
  "nbformat": 4,
  "nbformat_minor": 0,
  "metadata": {
    "colab": {
      "provenance": [],
      "authorship_tag": "ABX9TyNUo1WbtfKm/1Tunko0uzkE",
      "include_colab_link": true
    },
    "kernelspec": {
      "name": "python3",
      "display_name": "Python 3"
    },
    "language_info": {
      "name": "python"
    }
  },
  "cells": [
    {
      "cell_type": "markdown",
      "metadata": {
        "id": "view-in-github",
        "colab_type": "text"
      },
      "source": [
        "<a href=\"https://colab.research.google.com/github/mehedi2452/desktop-tutorial/blob/main/DSA.ipynb\" target=\"_parent\"><img src=\"https://colab.research.google.com/assets/colab-badge.svg\" alt=\"Open In Colab\"/></a>"
      ]
    },
    {
      "cell_type": "code",
      "execution_count": null,
      "metadata": {
        "colab": {
          "base_uri": "https://localhost:8080/"
        },
        "id": "UXID_lkLjUcP",
        "outputId": "fb90c446-a4ef-4ae3-b3c8-39708a61ed33"
      },
      "outputs": [
        {
          "output_type": "stream",
          "name": "stdout",
          "text": [
            "Requirement already satisfied: cryptography in /usr/local/lib/python3.10/dist-packages (41.0.7)\n",
            "Requirement already satisfied: cffi>=1.12 in /usr/local/lib/python3.10/dist-packages (from cryptography) (1.16.0)\n",
            "Requirement already satisfied: pycparser in /usr/local/lib/python3.10/dist-packages (from cffi>=1.12->cryptography) (2.21)\n"
          ]
        }
      ],
      "source": [
        "!pip install cryptography\n"
      ]
    },
    {
      "cell_type": "code",
      "source": [
        "from cryptography.hazmat.primitives import hashes\n",
        "from cryptography.hazmat.backends import default_backend\n",
        "from cryptography.hazmat.primitives.asymmetric import dsa\n",
        "from cryptography.hazmat.primitives.serialization import Encoding, PublicFormat\n",
        "\n",
        "def generate_dsa_keypair():\n",
        "    private_key = dsa.generate_private_key(\n",
        "        key_size=2048,\n",
        "        backend=default_backend()\n",
        "    )\n",
        "    public_key = private_key.public_key()\n",
        "    return private_key, public_key\n",
        "\n",
        "def sign_message(private_key, message):\n",
        "    signature = private_key.sign(\n",
        "        message,\n",
        "        hashes.SHA256()\n",
        "    )\n",
        "    return signature\n",
        "\n",
        "def verify_signature(public_key, message, signature):\n",
        "    try:\n",
        "        public_key.verify(\n",
        "            signature,\n",
        "            message,\n",
        "            hashes.SHA256()\n",
        "        )\n",
        "        return True\n",
        "    except Exception as e:\n",
        "        print(f\"Signature verification failed: {e}\")\n",
        "        return False\n",
        "\n",
        "# Example usage\n",
        "private_key, public_key = generate_dsa_keypair()\n",
        "message = b\"Hello, DSA!\"\n",
        "\n",
        "# Sign the message\n",
        "signature = sign_message(private_key, message)\n",
        "\n",
        "# Verify the signature\n",
        "is_valid = verify_signature(public_key, message, signature)\n",
        "\n",
        "if is_valid:\n",
        "    print(\"Signature is valid.\")\n",
        "else:\n",
        "    print(\"Signature is invalid.\")\n"
      ],
      "metadata": {
        "colab": {
          "base_uri": "https://localhost:8080/"
        },
        "id": "7_bTA_rikWyP",
        "outputId": "d8f4a563-ee4d-45c5-c0d7-cdbe8a99238a"
      },
      "execution_count": null,
      "outputs": [
        {
          "output_type": "stream",
          "name": "stdout",
          "text": [
            "Signature is valid.\n"
          ]
        }
      ]
    }
  ]
}