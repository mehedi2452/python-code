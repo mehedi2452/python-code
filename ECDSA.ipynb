{
  "nbformat": 4,
  "nbformat_minor": 0,
  "metadata": {
    "colab": {
      "provenance": [],
      "authorship_tag": "ABX9TyNICjOAewg0IJDLCxFY5Wf8",
      "include_colab_link": true
    },
    "kernelspec": {
      "name": "python3",
      "display_name": "Python 3"
    },
    "language_info": {
      "name": "python"
    }
  },
  "cells": [
    {
      "cell_type": "markdown",
      "metadata": {
        "id": "view-in-github",
        "colab_type": "text"
      },
      "source": [
        "<a href=\"https://colab.research.google.com/github/mehedi2452/desktop-tutorial/blob/main/ECDSA.ipynb\" target=\"_parent\"><img src=\"https://colab.research.google.com/assets/colab-badge.svg\" alt=\"Open In Colab\"/></a>"
      ]
    },
    {
      "cell_type": "code",
      "execution_count": null,
      "metadata": {
        "colab": {
          "base_uri": "https://localhost:8080/"
        },
        "id": "WWzHnyGylHw2",
        "outputId": "a909dfbf-0f72-44c3-80d9-08d2b28b1564"
      },
      "outputs": [
        {
          "output_type": "stream",
          "name": "stdout",
          "text": [
            "Requirement already satisfied: cryptography in /usr/local/lib/python3.10/dist-packages (41.0.7)\n",
            "Requirement already satisfied: cffi>=1.12 in /usr/local/lib/python3.10/dist-packages (from cryptography) (1.16.0)\n",
            "Requirement already satisfied: pycparser in /usr/local/lib/python3.10/dist-packages (from cffi>=1.12->cryptography) (2.21)\n"
          ]
        }
      ],
      "source": [
        "!pip install cryptography"
      ]
    },
    {
      "cell_type": "code",
      "source": [
        "from cryptography.hazmat.backends import default_backend\n",
        "from cryptography.hazmat.primitives import hashes\n",
        "from cryptography.hazmat.primitives.asymmetric import ec\n",
        "from cryptography.hazmat.primitives import serialization\n",
        "\n",
        "def generate_ecdsa_keypair():\n",
        "    private_key = ec.generate_private_key(\n",
        "        ec.SECP256R1(),  # Elliptic curve: NIST P-256\n",
        "        default_backend()\n",
        "    )\n",
        "    public_key = private_key.public_key()\n",
        "    return private_key, public_key\n",
        "\n",
        "def sign_message(private_key, message):\n",
        "    signature = private_key.sign(\n",
        "        message,\n",
        "        ec.ECDSA(hashes.SHA256())\n",
        "    )\n",
        "    return signature\n",
        "\n",
        "def verify_signature(public_key, message, signature):\n",
        "    try:\n",
        "        public_key.verify(\n",
        "            signature,\n",
        "            message,\n",
        "            ec.ECDSA(hashes.SHA256())\n",
        "        )\n",
        "        return True\n",
        "    except Exception as e:\n",
        "        print(f\"Signature verification failed: {e}\")\n",
        "        return False\n",
        "\n",
        "# Example usage\n",
        "private_key, public_key = generate_ecdsa_keypair()\n",
        "message = b\"Hello, ECDSA!\"\n",
        "\n",
        "# Sign the message\n",
        "signature = sign_message(private_key, message)\n",
        "\n",
        "# Verify the signature\n",
        "is_valid = verify_signature(public_key, message, signature)\n",
        "\n",
        "if is_valid:\n",
        "    print(\"Signature is valid.\")\n",
        "else:\n",
        "    print(\"Signature is invalid.\")\n"
      ],
      "metadata": {
        "colab": {
          "base_uri": "https://localhost:8080/"
        },
        "id": "310lh9NClkRf",
        "outputId": "473880f9-59d3-4b75-f080-040559564bcd"
      },
      "execution_count": null,
      "outputs": [
        {
          "output_type": "stream",
          "name": "stdout",
          "text": [
            "Signature is valid.\n"
          ]
        }
      ]
    }
  ]
}